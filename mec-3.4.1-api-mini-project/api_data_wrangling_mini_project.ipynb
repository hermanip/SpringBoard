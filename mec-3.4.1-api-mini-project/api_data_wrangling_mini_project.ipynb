{
 "cells": [
  {
   "cell_type": "markdown",
   "metadata": {},
   "source": [
    "This exercise will require you to pull some data from the Qunadl API. Qaundl is currently the most widely used aggregator of financial market data."
   ]
  },
  {
   "cell_type": "markdown",
   "metadata": {},
   "source": [
    "As a first step, you will need to register a free account on the http://www.quandl.com website."
   ]
  },
  {
   "cell_type": "markdown",
   "metadata": {},
   "source": [
    "After you register, you will be provided with a unique API key, that you should store:"
   ]
  },
  {
   "cell_type": "code",
   "execution_count": 14,
   "metadata": {},
   "outputs": [],
   "source": [
    "import os\n",
    "\n",
    "# Store the API key as a string - according to PEP8, constants are always named in all upper case\n",
    "API_KEY = os.environ[\"QUANDI_API_KEY\"]"
   ]
  },
  {
   "cell_type": "markdown",
   "metadata": {},
   "source": [
    "Qaundl has a large number of data sources, but, unfortunately, most of them require a Premium subscription. Still, there are also a good number of free datasets."
   ]
  },
  {
   "cell_type": "markdown",
   "metadata": {},
   "source": [
    "For this mini project, we will focus on equities data from the Frankfurt Stock Exhange (FSE), which is available for free. We'll try and analyze the stock prices of a company called Carl Zeiss Meditec, which manufactures tools for eye examinations, as well as medical lasers for laser eye surgery: https://www.zeiss.com/meditec/int/home.html. The company is listed under the stock ticker AFX_X."
   ]
  },
  {
   "cell_type": "markdown",
   "metadata": {},
   "source": [
    "You can find the detailed Quandl API instructions here: https://docs.quandl.com/docs/time-series"
   ]
  },
  {
   "cell_type": "markdown",
   "metadata": {},
   "source": [
    "While there is a dedicated Python package for connecting to the Quandl API, we would prefer that you use the *requests* package, which can be easily downloaded using *pip* or *conda*. You can find the documentation for the package here: http://docs.python-requests.org/en/master/ "
   ]
  },
  {
   "cell_type": "code",
   "execution_count": 15,
   "metadata": {},
   "outputs": [],
   "source": [
    "import requests\n"
   ]
  },
  {
   "cell_type": "markdown",
   "metadata": {},
   "source": [
    "Finally, apart from the *requests* package, you are encouraged to not use any third party Python packages, such as *pandas*, and instead focus on what's available in the Python Standard Library (the *collections* module might come in handy: https://pymotw.com/3/collections/).\n",
    "Also, since you won't have access to DataFrames, you are encouraged to us Python's native data structures - preferably dictionaries, though some questions can also be answered using lists.\n",
    "You can read more on these data structures here: https://docs.python.org/3/tutorial/datastructures.html"
   ]
  },
  {
   "cell_type": "markdown",
   "metadata": {},
   "source": [
    "Keep in mind that the JSON responses you will be getting from the API map almost one-to-one to Python's dictionaries. Unfortunately, they can be very nested, so make sure you read up on indexing dictionaries in the documentation provided above."
   ]
  },
  {
   "cell_type": "code",
   "execution_count": 16,
   "metadata": {},
   "outputs": [
    {
     "name": "stdout",
     "output_type": "stream",
     "text": [
      "['Date', 'Open', 'High', 'Low', 'Close', 'Volume', 'Ex-Dividend', 'Split Ratio', 'Adj. Open', 'Adj. High', 'Adj. Low', 'Adj. Close', 'Adj. Volume']\n"
     ]
    }
   ],
   "source": [
    "# Now, call the Quandl API and pull out a small sample of the data (only one day) to get a glimpse\n",
    "# into the JSON structure that will be returned\n",
    "\n",
    "#Retrieve the data in json format\n",
    "url = 'https://www.quandl.com/api/v3/datasets/WIKI/FB/data.json?&start_date=2017-01-01&end_date=2017-12-31api_key=' + API_KEY\n",
    "r = requests.get(url)\n",
    "jsonData = r.json()\n",
    "\n",
    "#Print the headers of the data structure so that we know where the data is\n",
    "headers = jsonData[\"dataset_data\"][\"column_names\"]\n",
    "print(headers)\n"
   ]
  },
  {
   "cell_type": "code",
   "execution_count": 17,
   "metadata": {},
   "outputs": [
    {
     "name": "stdout",
     "output_type": "stream",
     "text": [
      "Highest open is:  183.51\n",
      "Lowest open is:  116.03\n"
     ]
    }
   ],
   "source": [
    "# This section we will find the highest and lowest open for this stock in 2017.  \n",
    "# Retrieve the list of stock data by day\n",
    "dataset = jsonData[\"dataset_data\"][\"data\"]\n",
    "\n",
    "#Now we need to find the highest and lowest open.  The two variables will hold these two values at the end\n",
    "lowest_open = highest_open = dataset[0][1]\n",
    "\n",
    "#Loop through every day to compare the highest and lowest\n",
    "for data in dataset:\n",
    "    open = data[1]\n",
    "    if (open > highest_open):\n",
    "        highest_open = open\n",
    "    if (open < lowest_open):\n",
    "        lowest_open = open\n",
    "     \n",
    "#Print out the highest and lowest\n",
    "print(\"Highest open is: \", highest_open)\n",
    "print(\"Lowest open is: \", lowest_open)"
   ]
  },
  {
   "cell_type": "code",
   "execution_count": 18,
   "metadata": {},
   "outputs": [
    {
     "name": "stdout",
     "output_type": "stream",
     "text": [
      "Largest change in one day is  8.97999999999999\n"
     ]
    }
   ],
   "source": [
    "# This section we will find the highest change in any one day\n",
    "daily_diff = 0\n",
    "\n",
    "for data in dataset:\n",
    "    daily_high = data[2]\n",
    "    daily_low = data[3]\n",
    "    if daily_diff < (daily_high-daily_low) : daily_diff = (daily_high-daily_low)\n",
    "          \n",
    "print(\"Largest change in one day is \", daily_diff)"
   ]
  },
  {
   "cell_type": "code",
   "execution_count": 19,
   "metadata": {},
   "outputs": [
    {
     "name": "stdout",
     "output_type": "stream",
     "text": [
      "The largest change between any two days:  -7.6699999999999875\n"
     ]
    }
   ],
   "source": [
    "# This section we will find out the largest change between any two days based on closing price\n",
    "prevDayClose = dataset[0][4]\n",
    "largestChange = 0\n",
    "i = 1\n",
    "datasetSize = len(dataset)\n",
    "\n",
    "while i < datasetSize:\n",
    "    data = dataset[i]\n",
    "    todayClose = data[4]\n",
    "    if abs(largestChange) < abs(prevDayClose - todayClose):\n",
    "        largestChange = (prevDayClose - todayClose)\n",
    "    prevDayClose = todayClose\n",
    "    i += 1\n",
    "    \n",
    "print(\"The largest change between any two days: \", largestChange)"
   ]
  },
  {
   "cell_type": "code",
   "execution_count": 20,
   "metadata": {},
   "outputs": [
    {
     "name": "stdout",
     "output_type": "stream",
     "text": [
      "The average daily volume during this year is:  16468073.856\n"
     ]
    }
   ],
   "source": [
    "# This section we will find the average daily volume during this year\n",
    "tradingVolumeSum = 0\n",
    "for data in dataset:\n",
    "    tradingVolumeSum += data[5]\n",
    "    \n",
    "averageTradingVolume = tradingVolumeSum / datasetSize\n",
    "print(\"The average daily volume during this year is: \", averageTradingVolume)"
   ]
  },
  {
   "cell_type": "code",
   "execution_count": 21,
   "metadata": {},
   "outputs": [
    {
     "name": "stdout",
     "output_type": "stream",
     "text": [
      "14548954.0\n"
     ]
    }
   ],
   "source": [
    "# This section will calculate the median daily trading volume.  A function is defined to take care of this.\n",
    "# The function will extract all the daily trading volumes and add them to a list.  We will then sort the list and then \n",
    "# calculate the median\n",
    "def medianTradingVolume(dataset):\n",
    "    dailyVolumeList = list()\n",
    "    \n",
    "    for data in dataset:\n",
    "        dailyVolumeList.append(data[5])\n",
    "               \n",
    "    dataSize = len(dailyVolumeList)\n",
    "    if dataSize == 0:\n",
    "        return none\n",
    "    \n",
    "    dailyVolumeList.sort()\n",
    "    medianIndex = (dataSize-1)//2\n",
    "    if medianIndex % 2:\n",
    "        return dailyVolumeList[medianIndex]\n",
    "    else:\n",
    "        return (dailyVolumeList[medianIndex]+dailyVolumeList[medianIndex+1])/2.0\n",
    " \n",
    "print(medianTradingVolume(dataset))\n",
    "\n",
    "import os\n"
   ]
  },
  {
   "cell_type": "markdown",
   "metadata": {},
   "source": [
    "These are your tasks for this mini project:\n",
    "\n",
    "1. Collect data from the Franfurt Stock Exchange, for the ticker AFX_X, for the whole year 2017 (keep in mind that the date format is YYYY-MM-DD).\n",
    "2. Convert the returned JSON object into a Python dictionary.\n",
    "3. Calculate what the highest and lowest opening prices were for the stock in this period.\n",
    "4. What was the largest change in any one day (based on High and Low price)?\n",
    "5. What was the largest change between any two days (based on Closing Price)?\n",
    "6. What was the average daily trading volume during this year?\n",
    "7. (Optional) What was the median trading volume during this year. (Note: you may need to implement your own function for calculating the median.)"
   ]
  },
  {
   "cell_type": "code",
   "execution_count": null,
   "metadata": {},
   "outputs": [],
   "source": []
  }
 ],
 "metadata": {
  "kernelspec": {
   "display_name": "Python 3",
   "language": "python",
   "name": "python3"
  },
  "language_info": {
   "codemirror_mode": {
    "name": "ipython",
    "version": 3
   },
   "file_extension": ".py",
   "mimetype": "text/x-python",
   "name": "python",
   "nbconvert_exporter": "python",
   "pygments_lexer": "ipython3",
   "version": "3.6.6+"
  }
 },
 "nbformat": 4,
 "nbformat_minor": 2
}
